{
 "cells": [
  {
   "cell_type": "code",
   "execution_count": 4,
   "metadata": {},
   "outputs": [
    {
     "data": {
      "text/html": [
       "<head>\n",
       "    <title>State Input</title>\n",
       "</head>\n",
       "<body>\n",
       "    <h1>Enter a State Name</h1>\n",
       "    <form id=\"stateForm\">\n",
       "        <input type=\"text\" id=\"stateInput\" placeholder=\"Enter a state name\">\n",
       "        <button type=\"submit\">Submit</button>\n",
       "    </form>\n",
       "\n",
       "    <div id=\"result\">\n",
       "        <!-- The result from the backend will be displayed here -->\n",
       "    </div>\n",
       "\n",
       "    <script>\n",
       "        // Listen for the form submission\n",
       "        document.getElementById('stateForm').addEventListener('submit', function (e) {\n",
       "            e.preventDefault(); // Prevent the default form submission\n",
       "\n",
       "            // Get the state name from the input field\n",
       "            const stateName = document.getElementById('stateInput').value;\n",
       "\n",
       "            // Send the stateName to the backend using a fetch request\n",
       "            fetch('/backend_endpoint', {\n",
       "                method: 'POST',\n",
       "                headers: {\n",
       "                    'Content-Type': 'application/json',\n",
       "                },\n",
       "                body: JSON.stringify({ state_name: stateName }),\n",
       "            })\n",
       "            .then(response => response.json())\n",
       "            .then(data => {\n",
       "                // Display the result from the backend in the result div\n",
       "                document.getElementById('result').textContent = `Result from backend: ${data.result}`;\n",
       "            })\n",
       "            .catch(error => {\n",
       "                console.error('Error:', error);\n",
       "            });\n",
       "        });\n",
       "    </script>\n",
       "</body>\n"
      ],
      "text/plain": [
       "<IPython.core.display.HTML object>"
      ]
     },
     "metadata": {},
     "output_type": "display_data"
    }
   ],
   "source": [
    "%%HTML\n",
    "<head>\n",
    "    <title>State Input</title>\n",
    "</head>\n",
    "<body>\n",
    "    <h1>Enter a State Name</h1>\n",
    "    <form id=\"stateForm\">\n",
    "        <input type=\"text\" id=\"stateInput\" placeholder=\"Enter a state name\">\n",
    "        <button type=\"submit\">Submit</button>\n",
    "    </form>\n",
    "\n",
    "    <div id=\"result\">\n",
    "        <!-- The result from the backend will be displayed here -->\n",
    "    </div>\n",
    "\n",
    "    <script>\n",
    "        // Listen for the form submission\n",
    "        document.getElementById('stateForm').addEventListener('submit', function (e) {\n",
    "            e.preventDefault(); // Prevent the default form submission\n",
    "\n",
    "            // Get the state name from the input field\n",
    "            const stateName = document.getElementById('stateInput').value;\n",
    "\n",
    "            // Send the stateName to the backend using a fetch request\n",
    "            fetch('https://cancer0.stu.nighthawkcodingsociety.com/', {\n",
    "                method: 'POST',\n",
    "                headers: {\n",
    "                    'Content-Type': 'application/json',\n",
    "                },\n",
    "                body: JSON.stringify({ state_name: stateName }),\n",
    "            })\n",
    "            .then(response => response.json())\n",
    "            .then(data => {\n",
    "                // Display the result from the backend in the result div\n",
    "                document.getElementById('result').textContent = `Result from backend: ${data.result}`;\n",
    "            })\n",
    "            .catch(error => {\n",
    "                console.error('Error:', error);\n",
    "            });\n",
    "        });\n",
    "    </script>\n",
    "</body>\n"
   ]
  }
 ],
 "metadata": {
  "kernelspec": {
   "display_name": "Python 3",
   "language": "python",
   "name": "python3"
  },
  "language_info": {
   "codemirror_mode": {
    "name": "ipython",
    "version": 3
   },
   "file_extension": ".py",
   "mimetype": "text/x-python",
   "name": "python",
   "nbconvert_exporter": "python",
   "pygments_lexer": "ipython3",
   "version": "3.10.12"
  }
 },
 "nbformat": 4,
 "nbformat_minor": 2
}
